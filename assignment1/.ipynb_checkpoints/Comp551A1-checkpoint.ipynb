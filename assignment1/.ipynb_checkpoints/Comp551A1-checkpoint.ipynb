{
 "cells": [
  {
   "cell_type": "code",
   "execution_count": 16,
   "metadata": {},
   "outputs": [
    {
     "data": {
      "image/png": "[encoded data removed]",
      "text/plain": [
       "<Figure size 432x288 with 1 Axes>"
      ]
     },
     "metadata": {},
     "output_type": "display_data"
    }
   ],
   "source": [
    "import numpy as np\n",
    "data1 = np.genfromtxt(\"winequality-red.csv\", delimiter = \";\",\n",
    "                      skip_header = 1)\n",
    "# 1 means positive, 0 means negative\n",
    "for i in range(len(data1)):\n",
    "    for j in range(len(data1[0])):\n",
    "        if j == len(data1[0]) - 1:\n",
    "            if data1[i][j] >= 6:\n",
    "                data1[i][j] = 1\n",
    "            else:\n",
    "                data1[i][j] = 0\n",
    "#print(data1)\n",
    "data2 = np.genfromtxt(\"breast-cancer-wisconsin.data\", delimiter = \",\", \n",
    "                      skip_header = 1)\n",
    "#print(data2)\n",
    "\n",
    "import matplotlib.pyplot as plt\n",
    "plt.plot(range(len(data1)), data1[:,[11]], \"ro\")\n",
    "plt.show()"
   ]
  },
  {
   "cell_type": "code",
   "execution_count": null,
   "metadata": {},
   "outputs": [],
   "source": []
  },
  {
   "cell_type": "code",
   "execution_count": null,
   "metadata": {},
   "outputs": [],
   "source": []
  }
 ],
 "metadata": {
  "kernelspec": {
   "display_name": "Python 3",
   "language": "python",
   "name": "python3"
  },
  "language_info": {
   "codemirror_mode": {
    "name": "ipython",
    "version": 3
   },
   "file_extension": ".py",
   "mimetype": "text/x-python",
   "name": "python",
   "nbconvert_exporter": "python",
   "pygments_lexer": "ipython3",
   "version": "3.7.0"
  }
 },
 "nbformat": 4,
 "nbformat_minor": 2
}
