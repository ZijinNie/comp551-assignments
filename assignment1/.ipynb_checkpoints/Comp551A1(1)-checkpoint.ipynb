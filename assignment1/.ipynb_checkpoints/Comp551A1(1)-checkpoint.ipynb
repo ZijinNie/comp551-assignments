{
 "cells": [
  {
   "cell_type": "code",
   "execution_count": 4,
   "metadata": {},
   "outputs": [
    {
     "ename": "OSError",
     "evalue": "breast-cancer-wisconsin.data not found.",
     "output_type": "error",
     "traceback": [
      "\u001b[1;31m---------------------------------------------------------------------------\u001b[0m",
      "\u001b[1;31mOSError\u001b[0m                                   Traceback (most recent call last)",
      "\u001b[1;32m<ipython-input-4-7ba9fc7ec689>\u001b[0m in \u001b[0;36m<module>\u001b[1;34m()\u001b[0m\n\u001b[0;32m     12\u001b[0m \u001b[1;31m#print(data1)\u001b[0m\u001b[1;33m\u001b[0m\u001b[1;33m\u001b[0m\u001b[0m\n\u001b[0;32m     13\u001b[0m data2 = np.genfromtxt(\"breast-cancer-wisconsin.data\", delimiter = \",\", \n\u001b[1;32m---> 14\u001b[1;33m                       skip_header = 1)\n\u001b[0m\u001b[0;32m     15\u001b[0m \u001b[1;31m#print(data2)\u001b[0m\u001b[1;33m\u001b[0m\u001b[1;33m\u001b[0m\u001b[0m\n\u001b[0;32m     16\u001b[0m \u001b[1;33m\u001b[0m\u001b[0m\n",
      "\u001b[1;32mD:\\Program Files\\Anaconda\\lib\\site-packages\\numpy\\lib\\npyio.py\u001b[0m in \u001b[0;36mgenfromtxt\u001b[1;34m(fname, dtype, comments, delimiter, skip_header, skip_footer, converters, missing_values, filling_values, usecols, names, excludelist, deletechars, replace_space, autostrip, case_sensitive, defaultfmt, unpack, usemask, loose, invalid_raise, max_rows, encoding)\u001b[0m\n\u001b[0;32m   1698\u001b[0m             \u001b[0mfname\u001b[0m \u001b[1;33m=\u001b[0m \u001b[0mstr\u001b[0m\u001b[1;33m(\u001b[0m\u001b[0mfname\u001b[0m\u001b[1;33m)\u001b[0m\u001b[1;33m\u001b[0m\u001b[0m\n\u001b[0;32m   1699\u001b[0m         \u001b[1;32mif\u001b[0m \u001b[0misinstance\u001b[0m\u001b[1;33m(\u001b[0m\u001b[0mfname\u001b[0m\u001b[1;33m,\u001b[0m \u001b[0mbasestring\u001b[0m\u001b[1;33m)\u001b[0m\u001b[1;33m:\u001b[0m\u001b[1;33m\u001b[0m\u001b[0m\n\u001b[1;32m-> 1700\u001b[1;33m             \u001b[0mfhd\u001b[0m \u001b[1;33m=\u001b[0m \u001b[0miter\u001b[0m\u001b[1;33m(\u001b[0m\u001b[0mnp\u001b[0m\u001b[1;33m.\u001b[0m\u001b[0mlib\u001b[0m\u001b[1;33m.\u001b[0m\u001b[0m_datasource\u001b[0m\u001b[1;33m.\u001b[0m\u001b[0mopen\u001b[0m\u001b[1;33m(\u001b[0m\u001b[0mfname\u001b[0m\u001b[1;33m,\u001b[0m \u001b[1;34m'rt'\u001b[0m\u001b[1;33m,\u001b[0m \u001b[0mencoding\u001b[0m\u001b[1;33m=\u001b[0m\u001b[0mencoding\u001b[0m\u001b[1;33m)\u001b[0m\u001b[1;33m)\u001b[0m\u001b[1;33m\u001b[0m\u001b[0m\n\u001b[0m\u001b[0;32m   1701\u001b[0m             \u001b[0mown_fhd\u001b[0m \u001b[1;33m=\u001b[0m \u001b[1;32mTrue\u001b[0m\u001b[1;33m\u001b[0m\u001b[0m\n\u001b[0;32m   1702\u001b[0m         \u001b[1;32melse\u001b[0m\u001b[1;33m:\u001b[0m\u001b[1;33m\u001b[0m\u001b[0m\n",
      "\u001b[1;32mD:\\Program Files\\Anaconda\\lib\\site-packages\\numpy\\lib\\_datasource.py\u001b[0m in \u001b[0;36mopen\u001b[1;34m(path, mode, destpath, encoding, newline)\u001b[0m\n\u001b[0;32m    260\u001b[0m \u001b[1;33m\u001b[0m\u001b[0m\n\u001b[0;32m    261\u001b[0m     \u001b[0mds\u001b[0m \u001b[1;33m=\u001b[0m \u001b[0mDataSource\u001b[0m\u001b[1;33m(\u001b[0m\u001b[0mdestpath\u001b[0m\u001b[1;33m)\u001b[0m\u001b[1;33m\u001b[0m\u001b[0m\n\u001b[1;32m--> 262\u001b[1;33m     \u001b[1;32mreturn\u001b[0m \u001b[0mds\u001b[0m\u001b[1;33m.\u001b[0m\u001b[0mopen\u001b[0m\u001b[1;33m(\u001b[0m\u001b[0mpath\u001b[0m\u001b[1;33m,\u001b[0m \u001b[0mmode\u001b[0m\u001b[1;33m,\u001b[0m \u001b[0mencoding\u001b[0m\u001b[1;33m=\u001b[0m\u001b[0mencoding\u001b[0m\u001b[1;33m,\u001b[0m \u001b[0mnewline\u001b[0m\u001b[1;33m=\u001b[0m\u001b[0mnewline\u001b[0m\u001b[1;33m)\u001b[0m\u001b[1;33m\u001b[0m\u001b[0m\n\u001b[0m\u001b[0;32m    263\u001b[0m \u001b[1;33m\u001b[0m\u001b[0m\n\u001b[0;32m    264\u001b[0m \u001b[1;33m\u001b[0m\u001b[0m\n",
      "\u001b[1;32mD:\\Program Files\\Anaconda\\lib\\site-packages\\numpy\\lib\\_datasource.py\u001b[0m in \u001b[0;36mopen\u001b[1;34m(self, path, mode, encoding, newline)\u001b[0m\n\u001b[0;32m    616\u001b[0m                                       encoding=encoding, newline=newline)\n\u001b[0;32m    617\u001b[0m         \u001b[1;32melse\u001b[0m\u001b[1;33m:\u001b[0m\u001b[1;33m\u001b[0m\u001b[0m\n\u001b[1;32m--> 618\u001b[1;33m             \u001b[1;32mraise\u001b[0m \u001b[0mIOError\u001b[0m\u001b[1;33m(\u001b[0m\u001b[1;34m\"%s not found.\"\u001b[0m \u001b[1;33m%\u001b[0m \u001b[0mpath\u001b[0m\u001b[1;33m)\u001b[0m\u001b[1;33m\u001b[0m\u001b[0m\n\u001b[0m\u001b[0;32m    619\u001b[0m \u001b[1;33m\u001b[0m\u001b[0m\n\u001b[0;32m    620\u001b[0m \u001b[1;33m\u001b[0m\u001b[0m\n",
      "\u001b[1;31mOSError\u001b[0m: breast-cancer-wisconsin.data not found."
     ]
    }
   ],
   "source": [
    "import numpy as np\n",
    "data1 = np.genfromtxt(\"winequality-red.csv\", delimiter = \";\",\n",
    "                      skip_header = 1)\n",
    "# 1 means positive, 0 means negative\n",
    "for i in range(len(data1)):\n",
    "    for j in range(len(data1[0])):\n",
    "        if j == len(data1[0]) - 1:\n",
    "            if data1[i][j] >= 6:\n",
    "                data1[i][j] = 1\n",
    "            else:\n",
    "                data1[i][j] = 0\n",
    "#print(data1)\n",
    "data2 = np.genfromtxt(\"breast-cancer-wisconsin.data\", delimiter = \",\", \n",
    "                      skip_header = 1)\n",
    "#print(data2)\n",
    "\n",
    "import matplotlib.pyplot as plt\n",
    "plt.plot(range(len(data1)), data1[:,[10]], \"ro\")\n",
    "#plt.axis([0, 1600, 0, 1])\n",
    "plt.show()"
   ]
  },
  {
   "cell_type": "code",
   "execution_count": null,
   "metadata": {},
   "outputs": [],
   "source": []
  },
  {
   "cell_type": "code",
   "execution_count": 6,
   "metadata": {},
   "outputs": [
    {
     "ename": "IndentationError",
     "evalue": "unexpected indent (<ipython-input-6-b04eab243ddf>, line 70)",
     "output_type": "error",
     "traceback": [
      "\u001b[1;36m  File \u001b[1;32m\"<ipython-input-6-b04eab243ddf>\"\u001b[1;36m, line \u001b[1;32m70\u001b[0m\n\u001b[1;33m    skip_header = 1)\u001b[0m\n\u001b[1;37m    ^\u001b[0m\n\u001b[1;31mIndentationError\u001b[0m\u001b[1;31m:\u001b[0m unexpected indent\n"
     ]
    }
   ],
   "source": [
    "class LogisticRegression:\n",
    "    import numpy as np\n",
    "    \n",
    "    def __init__(self, learningRate, iterations):\n",
    "        self.learningRate = learningRate\n",
    "        self.iterations = iterations\n",
    "    # data is a row in dataset\n",
    "    def fit(self, data):\n",
    "        W = np.ones(shape = (len(data[0]) - 1 + 1, 1), dtype = float)\n",
    "        for k in range(self.iterations):\n",
    "            dirc = np.zeros(shape = (len(data[0]) - 1 + 1, 1), dtype = float)\n",
    "            for i in range(len(data)):\n",
    "                a = np.dot(W.transpose(),\n",
    "                           np.concatenate((np.array([data[i, 0: len(data[0]) - 1]]).transpose(), [[1]]), axis = 0))[0, 0]\n",
    "                sigma = 1.0 / (1.0 + np.exp(-a))\n",
    "                dirc = np.add(\n",
    "                    np.dot(data[i, len(data[0]) - 1] - sigma,\n",
    "                            np.concatenate((np.array([data[i, 0: len(data[0]) - 1]]).transpose(), [[1]]), axis = 0)),\n",
    "                    dirc)\n",
    "            dirc = np.dot(self.learningRate, dirc)\n",
    "            W = np.add(W, dirc) \n",
    "        return W\n",
    "    # data is a set of Xs, W is a weight vector(m * 1)\n",
    "    def predict(self, data, W):\n",
    "        res = np.zeros(shape = (len(data), 1), dtype = int)\n",
    "        for i in range(len(data)):\n",
    "            X = np.array([np.append(data[i, 0: len(data[0])], [1])])\n",
    "            a = np.dot(X, W)[0, 0]\n",
    "            \n",
    "            sigma = 1.0 / (1.0 + np.exp(-a))\n",
    "            # always map x in boundary(0.5) to y = 1 ??? potential questions need optimization\n",
    "            if sigma >= 0.5:\n",
    "                res[i, 0] = 1\n",
    "            else:\n",
    "                res[i, 0] = 0\n",
    "        return res\n",
    "    #def evaluate_acc()\n",
    "    # k-fold validation\n",
    "    def k_fold_train_and_validation(self, data, k):\n",
    "        size = len(data) / k\n",
    "        error = 0.0\n",
    "        for i in range(k):\n",
    "            validationSet = data[(int)(i * size): (int)((i + 1) * size), :]\n",
    "            trainSet = np.concatenate((data[0: (int)(i * size), :], data[(int)((i + 1) * size): (int)(len(data)), :]), axis = 0)\n",
    "            W = self.fit(trainSet)\n",
    "            Y_predict = self.predict(validationSet[: , 0: len(data[0]) - 1], W)\n",
    "            Y_true = validationSet[:, len(data[0]) - 1]\n",
    "            count = 0\n",
    "            for j in range(len(Y_true)):\n",
    "                if Y_predict[j, 0] != Y_true[j]:\n",
    "                    count += 1\n",
    "            error += count\n",
    "        error = error / 5.0\n",
    "        print(error)\n",
    "        return error\n",
    "if __name__ == \"__main__\":\n",
    "    import numpy as np\n",
    "    data1 = np.genfromtxt(\"winequality-red.csv\", delimiter = \";\",\n",
    "                          skip_header = 1)\n",
    "    # 1 means positive, 0 means negative\n",
    "    for i in range(len(data1)):\n",
    "        for j in range(len(data1[0])):\n",
    "            if j == len(data1[0]) - 1:\n",
    "                if data1[i][j] >= 6:\n",
    "                    data1[i][j] = 1\n",
    "                else:\n",
    "                    data1[i][j] = 0\n",
    "    #print(data1)\n",
    "    #data2 = np.genfromtxt(\"breast-cancer-wisconsin.data\", delimiter = \",\", \n",
    "                          skip_header = 1)\n",
    "    #print(data2)\n",
    "    \n",
    "    print(len(data1))\n",
    "    logistic_model = LogisticRegression(0.1, 500)\n",
    "    logistic_model.k_fold_train_and_validation(data1, 3)\n",
    "    \n",
    "    "
   ]
  },
  {
   "cell_type": "code",
   "execution_count": null,
   "metadata": {},
   "outputs": [],
   "source": [
    "Class "
   ]
  },
  {
   "cell_type": "code",
   "execution_count": null,
   "metadata": {},
   "outputs": [],
   "source": []
  }
 ],
 "metadata": {
  "kernelspec": {
   "display_name": "Python 3",
   "language": "python",
   "name": "python3"
  },
  "language_info": {
   "codemirror_mode": {
    "name": "ipython",
    "version": 3
   },
   "file_extension": ".py",
   "mimetype": "text/x-python",
   "name": "python",
   "nbconvert_exporter": "python",
   "pygments_lexer": "ipython3",
   "version": "3.7.0"
  }
 },
 "nbformat": 4,
 "nbformat_minor": 2
}
